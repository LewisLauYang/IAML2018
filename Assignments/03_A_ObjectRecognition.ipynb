{
 "cells": [
  {
   "cell_type": "markdown",
   "metadata": {},
   "source": [
    "# Introductory applied machine learning\n",
    "# Assignment 3 (Part A): Object Recognition [75%]"
   ]
  },
  {
   "cell_type": "markdown",
   "metadata": {},
   "source": [
    "## Important Instructions\n",
    "\n",
    "**It is important that you follow the instructions below to the letter - we will not be responsible for incorrect marking due to non-standard practices.**\n",
    "\n",
    "1. <font color='red'>We have split Assignment 3 into two parts to make it easier for you to work on them separately and for the markers to give you feedback. This is part A of Assignment 3 - Part B is the Mini-Challenge. Both Assignments together are still worth 50% of CourseWork 2. **Remember to submit both notebooks (you can submit them separately).**</font>\n",
    "\n",
    "1. You *MUST* have your environment set up as in the [README](https://github.com/michael-camilleri/IAML2018) and you *must activate this environment before running this notebook*:\n",
    "```\n",
    "source activate py3iaml\n",
    "cd [DIRECTORY CONTAINING GIT REPOSITORY]\n",
    "jupyter notebook\n",
    "# Navigate to this file\n",
    "```\n",
    "\n",
    "1. Read the instructions carefully, especially where asked to name variables with a specific name. Wherever you are required to produce code you should use code cells, otherwise you should use markdown cells to report results and explain answers. In most cases we indicate the nature of answer we are expecting (code/text), and also provide the code/markdown cell where to put it\n",
    "\n",
    "1. There are some questions which are **specific to those taking the Level-11 version** of the course (INFR11182 and INFR11152). These are clearly marked with the words **(LEVEL 11)** and must be completed by those taking the Level 11 course. Those on the Level 10 version (INFR10069) may (and are advised to) attempt such questions but this will not affect their mark in any way, nor will they get feedback on them.\n",
    "\n",
    "1. The .csv files that you will be using are located at `./datasets` (i.e. use the `datasets` directory **adjacent** to this file).\n",
    "\n",
    "1. Keep your answers brief and concise. Most written questions can be answered with 2-3 lines of explanation: **in questions where this is specified, you will be penalised if you go over.**\n",
    "\n",
    "1. Make sure to distinguish between **attributes** (columns of the data) and **features** (which typically refers only to the independent variables, i.e. excluding the target variables).\n",
    "\n",
    "1. Make sure to show **all** your code/working. \n",
    "\n",
    "1. Write readable code. While we do not expect you to follow [PEP8](https://www.python.org/dev/peps/pep-0008/) to the letter, the code should be adequately understandable, with plots/visualisations correctly labelled. **Do** use inline comments when doing something non-standard. When asked to present numerical values, make sure to represent real numbers in the appropriate precision to exemplify your answer. Marks *WILL* be deducted if the marker cannot understand your logic/results.\n",
    "\n",
    "1. **Collaboration:** You may discuss the assignment with your colleagues, provided that the writing that you submit is entirely your own. That is, you must NOT borrow actual text or code from others. We ask that you provide a list of the people who you've had discussions with (if any). Please refer to the [Academic Misconduct](http://web.inf.ed.ac.uk/infweb/admin/policies/academic-misconduct) page for what consistutes a breach of the above.\n",
    "\n",
    "### SUBMISSION Mechanics\n",
    "\n",
    "**IMPORTANT:** You must submit this assignment by **Thursday 22/11/2018 at 16:00**. \n",
    "\n",
    "**Late submissions:** The policy stated in the School of Informatics is that normally you will not be allowed to submit coursework late. See the [ITO webpage](http://web.inf.ed.ac.uk/infweb/student-services/ito/admin/coursework-projects/late-coursework-extension-requests) for exceptions to this, e.g. in case of serious medical illness or serious personal problems.\n",
    "\n",
    "**Resubmission:** If you submit your file(s) again, the previous submission is **overwritten**. We will mark the version that is in the submission folder at the deadline.\n",
    "\n",
    "**N.B.**: This Assignment requires submitting **two files (electronically as described below)**:\n",
    " 1. This Jupyter Notebook for Part A, *and*\n",
    " 1. The Jupyter Notebook for Part B\n",
    " \n",
    "All submissions happen electronically. To submit:\n",
    "\n",
    "1. Fill out this notebook (as well as Part B), making sure to:\n",
    "   1. save it with **all code/text and visualisations**: markers are NOT expected to run any cells,\n",
    "   1. keep the name of the file **UNCHANGED**, *and*\n",
    "   1. **keep the same structure**: retain the questions, **DO NOT** delete any cells and **avoid** adding unnecessary cells unless absolutely necessary, as this makes the job harder for the markers.\n",
    "\n",
    "1. Submit it using the `submit` functionality. To do this, you must be on a DICE environment. Open a Terminal, and:\n",
    "   1. **On-Campus Students**: navigate to the location of this notebook and execute the following command:\n",
    "   \n",
    "      ```submit iaml cw2 03_A_ObjectRecognition.ipynb 03_B_MiniChallenge.ipynb```\n",
    "      \n",
    "   1. **Distance Learners:** These instructions also apply to those students who work on their own computer. First you need to copy your work onto DICE (so that you can use the `submit` command). For this, you can use `scp` or `rsync` (you may need to install these yourself). You can copy files to `student.ssh.inf.ed.ac.uk`, then ssh into it in order to submit. The following is an example. Replace entries in `[square brackets]` with your specific details: i.e. if your student number is for example s1234567, then `[YOUR USERNAME]` becomes `s1234567`.\n",
    "   \n",
    "    ```\n",
    "    scp -r [FULL PATH TO 03_A_ObjectRecognition.ipynb] [YOUR USERNAME]@student.ssh.inf.ed.ac.uk:03_A_ObjectRecognition.ipynb\n",
    "    scp -r [FULL PATH TO 03_B_MiniChallenge.ipynb] [YOUR USERNAME]@student.ssh.inf.ed.ac.uk:03_B_MiniChallenge.ipynb\n",
    "    ssh [YOUR USERNAME]@student.ssh.inf.ed.ac.uk\n",
    "    ssh student.login\n",
    "    submit iaml cw2 03_A_ObjectRecognition.ipynb 03_B_MiniChallenge.ipynb\n",
    "    ```\n",
    "    \n",
    "   What actually happens in the background is that your file is placed in a folder available to markers. If you submit a file with the same name into the same location, **it will *overwrite* your previous submission**. You should receive an automatic email confirmation after submission.\n",
    "  \n",
    "\n",
    "\n",
    "### Marking Breakdown\n",
    "\n",
    "The Level 10 and Level 11 points are marked out of different totals, however these are all normalised to 100%. Note that Part A (this notebook) is worth 75% of the total Mark for Assignment 3, while Part B (Mini-Challenge) is worth 25%: *keep this breakdown in mind when planning your work, especially for Part B*.\n",
    "\n",
    "**70-100%** results/answer correct plus extra achievement at understanding or analysis of results. Clear explanations, evidence of creative or deeper thought will contribute to a higher grade.\n",
    "\n",
    "**60-69%** results/answer correct or nearly correct and well explained.\n",
    "\n",
    "**50-59%** results/answer in right direction but significant errors.\n",
    "\n",
    "**40-49%** some evidence that the student has gained some understanding, but not answered the questions\n",
    "properly.\n",
    "\n",
    "**0-39%** serious error or slack work.\n",
    "\n",
    "Note that while this is not a programming assignment, in questions which involve visualisation of results and/or long cold snippets, some marks may be deducted if the code is not adequately readable."
   ]
  },
  {
   "cell_type": "markdown",
   "metadata": {},
   "source": [
    "## Imports\n",
    "\n",
    "Use the cell below to include any imports you deem necessary."
   ]
  },
  {
   "cell_type": "code",
   "execution_count": 3,
   "metadata": {},
   "outputs": [],
   "source": [
    "# Nice Formatting within Jupyter Notebook\n",
    "%matplotlib inline\n",
    "from IPython.display import display # Allows multiple displays from a single code-cell\n",
    "\n",
    "# System functionality\n",
    "import sys\n",
    "sys.path.append('..')\n",
    "import os\n",
    "import sklearn\n",
    "import numpy as np\n",
    "import pandas as pd\n",
    "import matplotlib.pyplot as plt\n",
    "import seaborn as sns\n",
    "from sklearn.linear_model import LogisticRegression\n",
    "from sklearn.metrics import accuracy_score\n",
    "from sklearn.metrics import confusion_matrix\n",
    "from sklearn.ensemble import RandomForestClassifier\n",
    "from sklearn.preprocessing import LabelEncoder, StandardScaler\n",
    "from sklearn.model_selection import KFold\n",
    "from sklearn.svm import LinearSVC, SVC\n",
    "from utils import plotter\n",
    "\n",
    "\n",
    "# Import Here any Additional modules you use. To import utilities we provide, use something like:\n",
    "#   from utils.plotter import plot_hinton\n",
    "\n",
    "# Your Code goes here:"
   ]
  },
  {
   "cell_type": "markdown",
   "metadata": {},
   "source": [
    "## Description of the dataset\n",
    "In this assignment our goal is to recognize objects in images of realistic scenes. There are 19 different classes of object e.g. person, dog, cat, car, etc. The dataset derives from several thousands photographs harvested from the web. Each object of a relevant class has been manually annotated with a bounding box. Images can contain none, one or multiple objects of each class. We have prepared a [website](http://www.inf.ed.ac.uk/teaching/courses/iaml/2014/assts/asst3/images.html) where you can view the images.\n",
    "\n",
    "We are going to detect whether images contain a person or not - a binary classification problem. To save you time and to make the problem manageable with limited computational resources, we have preprocessed the dataset. We will use the [Bag of Visual Words](https://en.wikipedia.org/wiki/Bag-of-words_model_in_computer_vision) representation. Each column of the dataset (which is not a label), refers to a 'visual word'. Each image is represented by a 500 dimensional vector that contains the normalized count for each of 500 different visual words present in the respective image (a similar representation is used for the spambase dataset, just for real words). *Note that the normalisation procedure involves dividing the count vector by the total number of visual words in the image, i.e. the normalized counts sum to 1 for each image*. See the Appendix at the bottom of the notebook for more information. The image data is thus a $N \\times 500$ dimensional matrix where `N` is the number of images.\n",
    "\n",
    "The full dataset has 520 attributes (dimensions). The first attribute (`imgId`) contains the image ID which allows you to associate a data point with an actual image. The next 500 attributes (`dim1`, ..., `dim500`) are a normalized count vector for each visual word: these are the `features` of the data. The last 19 attributes, which follow the pattern `is_[class]` are the class labels -- here 1 means the class is present in the image. In most of the experiments (unless explicitly noted otherwise) you will only need the `is_person` attribute and the 500 dimensional feature vector. **Do not use the additional class indicator attributes as features** unless explicitly told to do so. \n",
    "\n",
    "**Important**: *Throughout the assignment you will be given various versions of the dataset that are relevant\n",
    "to a particular question. Please be careful to use the correct version of the dataset when instructed to do so.\n",
    "If you use the wrong version of the dataset by mistake no marks will be awarded.*"
   ]
  },
  {
   "cell_type": "markdown",
   "metadata": {},
   "source": [
    "## 1. Exploration of the dataset"
   ]
  },
  {
   "cell_type": "markdown",
   "metadata": {},
   "source": [
    "<a id='question1_1'></a>\n",
    "### ========== Question 1.1 --- [12 marks] ==========\n",
    "\n",
    "We will first get a feel for the data. *IMPORTANT: Show all your code!*\n",
    "\n",
    "&nbsp;&nbsp;**(a)** [Code] Load the training dataset `Images_A_Train.csv` into a pandas dataframe, keeping only the Visual Features and the `is_person` column. <br>\n",
    "&nbsp;&nbsp;&nbsp;&nbsp;*Hint: You may wish to first have a look at the column names*<br>\n",
    "&nbsp;&nbsp;**(b)** [Code] Using suitable pandas methods, summarise the key properties of the data, *and*<br>\n",
    "&nbsp;&nbsp;**(c)** [Text] comment on your observations from ***(b)*** (dimensionality, data ranges, anything out of the ordinary)."
   ]
  },
  {
   "cell_type": "code",
   "execution_count": 4,
   "metadata": {},
   "outputs": [],
   "source": [
    "# (a) # Your Code goes here:\n",
    "data_path = os.path.join(os.getcwd(), 'datasets', 'Images_A_Train.csv')\n",
    "image_train = pd.read_csv(data_path,delimiter=',')\n",
    "\n",
    "image_train_features = image_train.iloc[:,1:501]\n",
    "image_train_isPerson = image_train['is_person']\n"
   ]
  },
  {
   "cell_type": "code",
   "execution_count": 6,
   "metadata": {},
   "outputs": [
    {
     "name": "stdout",
     "output_type": "stream",
     "text": [
      "train A shape: (2093, 500)\n",
      "              dim1         dim2         dim3         dim4         dim5  \\\n",
      "count  2093.000000  2093.000000  2093.000000  2093.000000  2093.000000   \n",
      "mean      0.001751     0.000756     0.004317     0.001853     0.002272   \n",
      "std       0.001193     0.001406     0.003693     0.001340     0.001598   \n",
      "min       0.000000     0.000000     0.000000     0.000000     0.000000   \n",
      "25%       0.000833     0.000000     0.001359     0.000756     0.001116   \n",
      "50%       0.001563     0.000340     0.003397     0.001698     0.002038   \n",
      "75%       0.002378     0.000893     0.006324     0.002717     0.003057   \n",
      "max       0.009851     0.016644     0.027514     0.010789     0.010417   \n",
      "\n",
      "              dim6         dim7         dim8         dim9        dim10  \\\n",
      "count  2093.000000  2093.000000  2093.000000  2093.000000  2093.000000   \n",
      "mean      0.002220     0.001019     0.002446     0.002088     0.002746   \n",
      "std       0.001741     0.000873     0.002910     0.001971     0.002328   \n",
      "min       0.000000     0.000000     0.000000     0.000000     0.000000   \n",
      "25%       0.001019     0.000340     0.000625     0.000744     0.001116   \n",
      "50%       0.001860     0.000744     0.001563     0.001698     0.002056   \n",
      "75%       0.003057     0.001488     0.003397     0.002717     0.003736   \n",
      "max       0.021739     0.005774     0.029830     0.028372     0.020380   \n",
      "\n",
      "          ...            dim491       dim492       dim493       dim494  \\\n",
      "count     ...       2093.000000  2093.000000  2093.000000  2093.000000   \n",
      "mean      ...          0.002134     0.000563     0.004586     0.001541   \n",
      "std       ...          0.001616     0.001203     0.005825     0.001192   \n",
      "min       ...          0.000000     0.000000     0.000000     0.000000   \n",
      "25%       ...          0.001019     0.000000     0.000679     0.000679   \n",
      "50%       ...          0.001860     0.000000     0.002717     0.001359   \n",
      "75%       ...          0.002976     0.000679     0.006454     0.002232   \n",
      "max       ...          0.010870     0.021739     0.053329     0.010234   \n",
      "\n",
      "            dim495       dim496       dim497       dim498       dim499  \\\n",
      "count  2093.000000  2093.000000  2093.000000  2093.000000  2093.000000   \n",
      "mean      0.003642     0.002200     0.002928     0.002173     0.002485   \n",
      "std       0.002657     0.001664     0.003254     0.001418     0.001997   \n",
      "min       0.000000     0.000000     0.000000     0.000000     0.000000   \n",
      "25%       0.001698     0.001019     0.000744     0.001116     0.001019   \n",
      "50%       0.003057     0.001860     0.001953     0.002038     0.002038   \n",
      "75%       0.004808     0.003057     0.003780     0.002976     0.003397   \n",
      "max       0.024457     0.011719     0.028125     0.008492     0.014509   \n",
      "\n",
      "            dim500  \n",
      "count  2093.000000  \n",
      "mean      0.002978  \n",
      "std       0.002765  \n",
      "min       0.000000  \n",
      "25%       0.001019  \n",
      "50%       0.002232  \n",
      "75%       0.004076  \n",
      "max       0.028533  \n",
      "\n",
      "[8 rows x 500 columns]\n",
      "       dim1      dim2      dim3      dim4      dim5      dim6      dim7  \\\n",
      "0  0.002232  0.000558  0.002790  0.000837  0.001674  0.001953  0.001395   \n",
      "1  0.001563  0.000391  0.007422  0.003516  0.003906  0.005078  0.001953   \n",
      "2  0.000521  0.000000  0.000000  0.001042  0.001563  0.005729  0.000521   \n",
      "3  0.002976  0.002232  0.004464  0.000372  0.000372  0.002232  0.000000   \n",
      "4  0.001359  0.000340  0.001359  0.000340  0.001359  0.002038  0.002378   \n",
      "\n",
      "       dim8      dim9     dim10    ...       dim491    dim492    dim493  \\\n",
      "0  0.002232  0.003627  0.006138    ...     0.001116  0.000558  0.005301   \n",
      "1  0.002344  0.001953  0.001953    ...     0.001953  0.000000  0.008203   \n",
      "2  0.002083  0.003646  0.005208    ...     0.002083  0.000000  0.000521   \n",
      "3  0.003720  0.000000  0.002232    ...     0.001488  0.000000  0.015253   \n",
      "4  0.000000  0.003397  0.003397    ...     0.002038  0.000679  0.000000   \n",
      "\n",
      "     dim494    dim495    dim496    dim497    dim498    dim499    dim500  \n",
      "0  0.001116  0.004185  0.000837  0.006975  0.001953  0.001674  0.000558  \n",
      "1  0.001172  0.007422  0.004297  0.001563  0.000000  0.003125  0.004687  \n",
      "2  0.000521  0.002083  0.000000  0.000000  0.000521  0.003646  0.000000  \n",
      "3  0.000744  0.001488  0.000744  0.000372  0.001860  0.000000  0.001860  \n",
      "4  0.001359  0.001019  0.003736  0.008152  0.003736  0.000679  0.001698  \n",
      "\n",
      "[5 rows x 500 columns]\n",
      "y shape: (2093,)\n",
      "count    2093.000000\n",
      "mean        0.449116\n",
      "std         0.497523\n",
      "min         0.000000\n",
      "25%         0.000000\n",
      "50%         0.000000\n",
      "75%         1.000000\n",
      "max         1.000000\n",
      "Name: is_person, dtype: float64\n",
      "0    1\n",
      "1    0\n",
      "2    0\n",
      "3    1\n",
      "4    0\n",
      "Name: is_person, dtype: int64\n"
     ]
    }
   ],
   "source": [
    "# (b) # Your Code goes here:\n",
    "print('train A shape:',image_train_features.shape)\n",
    "\n",
    "print(image_train_features.describe())\n",
    "\n",
    "print(image_train_features.head(5))\n",
    "\n",
    "print('y shape:',image_train_isPerson.shape)\n",
    "\n",
    "print(image_train_isPerson.describe())\n",
    "\n",
    "print(image_train_isPerson.head(5))\n"
   ]
  },
  {
   "cell_type": "markdown",
   "metadata": {},
   "source": [
    "(c) ***Your answer goes here:***\n",
    "\n",
    "For image_train_features, there are a total of 500 dimensions, the values of the features are very small, and most of the values are between 0 and 0.05.The variance is very small, which causes the data to be concentrated around 0, and it is very dense and difficult to distinguish\n",
    "\n",
    "For image_train_isperson, this is one-dimensional, the value is 0 or 1, indicating whether there is someone in the picture. \n",
    "\n",
    "total rows of image_train_features and image_train_isperson are 2093\n"
   ]
  },
  {
   "cell_type": "markdown",
   "metadata": {},
   "source": [
    "### ========== Question 1.2 --- [8 marks] ==========\n",
    "\n",
    "Now we will prepare the testing set in a similar manner.\n",
    "\n",
    "&nbsp;&nbsp;**(a)** [Code] Load the testing dataset `Images_A_Test.csv` into a pandas dataframe: again extract the Visual Features and the `is_person` column. <br>\n",
    "&nbsp;&nbsp;**(b)** [Code] Using similar methods to [Q1.1](#question1_1) verify that the testing set is similar to the training set.<br>\n",
    "&nbsp;&nbsp;**(c)** [Text] Indicate the dimensionality, and comment on any discrepancies if any (if they are similar, just say so)."
   ]
  },
  {
   "cell_type": "code",
   "execution_count": 7,
   "metadata": {},
   "outputs": [],
   "source": [
    "# (a) # Your Code goes here:\n",
    "data_path = os.path.join(os.getcwd(), 'datasets', 'Images_A_Test.csv')\n",
    "image_test = pd.read_csv(data_path,delimiter=',')\n",
    "\n",
    "image_test_features = image_test.iloc[:,1:501]\n",
    "\n",
    "image_test_isPerson = image_test['is_person']"
   ]
  },
  {
   "cell_type": "code",
   "execution_count": 8,
   "metadata": {},
   "outputs": [
    {
     "name": "stdout",
     "output_type": "stream",
     "text": [
      "train A shape: (1113, 500)\n",
      "              dim1         dim2         dim3         dim4         dim5  \\\n",
      "count  1113.000000  1113.000000  1113.000000  1113.000000  1113.000000   \n",
      "mean      0.001744     0.000702     0.004720     0.001978     0.002321   \n",
      "std       0.001209     0.001364     0.003876     0.001417     0.001558   \n",
      "min       0.000000     0.000000     0.000000     0.000000     0.000000   \n",
      "25%       0.000744     0.000000     0.001698     0.001019     0.001172   \n",
      "50%       0.001563     0.000340     0.003736     0.001698     0.002038   \n",
      "75%       0.002378     0.000758     0.007102     0.002734     0.003057   \n",
      "max       0.007133     0.022135     0.023438     0.008929     0.010417   \n",
      "\n",
      "              dim6         dim7         dim8         dim9        dim10  \\\n",
      "count  1113.000000  1113.000000  1113.000000  1113.000000  1113.000000   \n",
      "mean      0.002110     0.001037     0.002529     0.002006     0.002641   \n",
      "std       0.001559     0.000885     0.002736     0.001919     0.002293   \n",
      "min       0.000000     0.000000     0.000000     0.000000     0.000000   \n",
      "25%       0.001019     0.000340     0.000679     0.000781     0.001019   \n",
      "50%       0.001803     0.000781     0.001698     0.001563     0.002038   \n",
      "75%       0.002976     0.001488     0.003397     0.002717     0.003397   \n",
      "max       0.010789     0.005757     0.022396     0.025000     0.013927   \n",
      "\n",
      "          ...            dim491       dim492       dim493       dim494  \\\n",
      "count     ...       1113.000000  1113.000000  1113.000000  1113.000000   \n",
      "mean      ...          0.002142     0.000598     0.004817     0.001585   \n",
      "std       ...          0.001600     0.001241     0.005831     0.001243   \n",
      "min       ...          0.000000     0.000000     0.000000     0.000000   \n",
      "25%       ...          0.001019     0.000000     0.000679     0.000679   \n",
      "50%       ...          0.001838     0.000000     0.002734     0.001359   \n",
      "75%       ...          0.002976     0.000679     0.006793     0.002232   \n",
      "max       ...          0.009821     0.012747     0.042026     0.009821   \n",
      "\n",
      "            dim495       dim496       dim497       dim498       dim499  \\\n",
      "count  1113.000000  1113.000000  1113.000000  1113.000000  1113.000000   \n",
      "mean      0.003611     0.002196     0.002772     0.002239     0.002407   \n",
      "std       0.002471     0.001575     0.003182     0.001346     0.001868   \n",
      "min       0.000000     0.000000     0.000000     0.000000     0.000000   \n",
      "25%       0.001860     0.001019     0.000679     0.001250     0.001019   \n",
      "50%       0.003125     0.001860     0.001838     0.002038     0.002038   \n",
      "75%       0.004836     0.003057     0.003736     0.003057     0.003348   \n",
      "max       0.015625     0.013346     0.029225     0.007068     0.011889   \n",
      "\n",
      "            dim500  \n",
      "count  1113.000000  \n",
      "mean      0.003097  \n",
      "std       0.002590  \n",
      "min       0.000000  \n",
      "25%       0.001359  \n",
      "50%       0.002604  \n",
      "75%       0.004092  \n",
      "max       0.026786  \n",
      "\n",
      "[8 rows x 500 columns]\n",
      "       dim1      dim2      dim3      dim4      dim5      dim6      dim7  \\\n",
      "0  0.001698  0.000000  0.003057  0.002378  0.001019  0.001698  0.000340   \n",
      "1  0.002038  0.000000  0.004076  0.001019  0.001019  0.001019  0.000679   \n",
      "2  0.001116  0.000000  0.005208  0.001860  0.001116  0.000000  0.001488   \n",
      "3  0.001698  0.000340  0.004076  0.000679  0.002038  0.001019  0.002038   \n",
      "4  0.003736  0.001019  0.000679  0.001019  0.003736  0.002038  0.002038   \n",
      "\n",
      "       dim8      dim9     dim10    ...       dim491    dim492    dim493  \\\n",
      "0  0.001019  0.001359  0.004416    ...     0.004076  0.000000  0.002038   \n",
      "1  0.001019  0.001019  0.002378    ...     0.001019  0.000000  0.003736   \n",
      "2  0.002232  0.001116  0.000372    ...     0.001860  0.000000  0.014137   \n",
      "3  0.001019  0.000340  0.004076    ...     0.001698  0.000340  0.011889   \n",
      "4  0.001359  0.002717  0.001698    ...     0.001698  0.000679  0.000679   \n",
      "\n",
      "     dim494    dim495    dim496    dim497    dim498    dim499    dim500  \n",
      "0  0.000340  0.003397  0.004416  0.000679  0.003736  0.005774  0.007812  \n",
      "1  0.003397  0.005435  0.002038  0.003397  0.001019  0.001359  0.002717  \n",
      "2  0.001116  0.004836  0.001488  0.000372  0.001116  0.001488  0.004092  \n",
      "3  0.001698  0.001698  0.002378  0.002378  0.002038  0.001698  0.001698  \n",
      "4  0.001359  0.001019  0.001019  0.001019  0.002378  0.001359  0.000000  \n",
      "\n",
      "[5 rows x 500 columns]\n",
      "y shape: (1113,)\n",
      "count    1113.000000\n",
      "mean        0.473495\n",
      "std         0.499521\n",
      "min         0.000000\n",
      "25%         0.000000\n",
      "50%         0.000000\n",
      "75%         1.000000\n",
      "max         1.000000\n",
      "Name: is_person, dtype: float64\n",
      "0    1\n",
      "1    1\n",
      "2    1\n",
      "3    1\n",
      "4    1\n",
      "Name: is_person, dtype: int64\n"
     ]
    }
   ],
   "source": [
    "# (b) # Your Code goes here:\n",
    "\n",
    "print('train A shape:',image_test_features.shape)\n",
    "\n",
    "print(image_test_features.describe())\n",
    "\n",
    "print(image_test_features.head(5))\n",
    "\n",
    "print('y shape:',image_test_isPerson.shape)\n",
    "\n",
    "print(image_test_isPerson.describe())\n",
    "\n",
    "print(image_test_isPerson.head(5))"
   ]
  },
  {
   "cell_type": "markdown",
   "metadata": {},
   "source": [
    "(c) ***Your answer goes here:***\n",
    "\n",
    "The test data is very similar to the training data except for the difference in the number of rows.The same value is small and the variance is small.So these data are concentrated around 0, and very dense"
   ]
  },
  {
   "cell_type": "markdown",
   "metadata": {},
   "source": [
    "### ========== Question 1.3 --- [5 marks] ==========\n",
    "\n",
    "We will now prepare the data for training.\n",
    "\n",
    "&nbsp;&nbsp;**(a)** [Code] Split both the training and testing sets into a matrix of features (independent) variables [X_tr/X_tst] and a vector of prediction (dependent) variables [y_tr/y_tst]. ***[Optional]*** *As a sanity check, you may wish to verify the dimensionality of the X/y variables*.<br>\n",
    "&nbsp;&nbsp;**(b)** [Code] Using seaborn's [countplot](https://seaborn.github.io/generated/seaborn.countplot.html?highlight=countplot#seaborn.countplot) function, visualise the distribution of the person-class (True/False) in the training and testing sets (use two figures or sub-plots). Annotate your figures.<br>\n",
    "&nbsp;&nbsp;**(c)** [Text] Do you envision any problems with the distribution under both sets? Would classification accuracy be a good metric for evaluating the performance of the classifiers? Why or why not?"
   ]
  },
  {
   "cell_type": "code",
   "execution_count": 9,
   "metadata": {},
   "outputs": [
    {
     "name": "stdout",
     "output_type": "stream",
     "text": [
      "(2093, 500)\n",
      "(1113, 500)\n",
      "(2093,)\n",
      "(1113,)\n"
     ]
    }
   ],
   "source": [
    "# (a) # Your Code goes here:\n",
    "X_tr = image_train_features.values;\n",
    "X_tst = image_test_features.values;\n",
    "y_tr = image_train_isPerson.values;\n",
    "y_tst = image_test_isPerson.values;\n",
    "\n",
    "print(X_tr.shape)\n",
    "print(X_tst.shape)\n",
    "print(y_tr.shape)\n",
    "print(y_tst.shape)"
   ]
  },
  {
   "cell_type": "code",
   "execution_count": 11,
   "metadata": {},
   "outputs": [
    {
     "data": {
      "image/png": "[encoded data removed]",
      "text/plain": [
       "<Figure size 921.6x345.6 with 2 Axes>"
      ]
     },
     "metadata": {
      "needs_background": "light"
     },
     "output_type": "display_data"
    }
   ],
   "source": [
    "# (b) # Your Code goes here:\n",
    "plt.figure(figsize=(6.4 * 2, 4.8))\n",
    "\n",
    "plt.subplot(121)\n",
    "\n",
    "ax1 = sns.countplot(x=y_tr)\n",
    "ax1.set_title('Train Data')\n",
    "ax1.set_xticklabels(['is not person','is person'])\n",
    "\n",
    "plt.subplot(122)\n",
    "\n",
    "ax2 = sns.countplot(x=y_tst)\n",
    "\n",
    "ax2.set_title('Test Data')\n",
    "ax2.set_xticklabels(['is not person','is person'])\n",
    "\n",
    "plt.show()"
   ]
  },
  {
   "cell_type": "markdown",
   "metadata": {},
   "source": [
    "(c) ***Your answer goes here:***\n",
    "\n",
    "1）The ratio of is_not_person and is_person is very close in the two data sets\n",
    "\n",
    "2）no.The accuracy of the classifier is very high, but the positive data may be the majority of the test data, while the negative data is only a small part, and this classifier has high accuracy for positive data, but the accuracy of negative data is very low, but due to positive data far exceeds negative data, so overall accuracy is still high.\n",
    "Therefore, in addition to seeing the overall accuracy, the classifier also needs to look sensitive(TP / P) and specificity(TN / N).\n"
   ]
  },
  {
   "cell_type": "markdown",
   "metadata": {},
   "source": [
    "## 2. Exploring Different Models for Classification"
   ]
  },
  {
   "cell_type": "markdown",
   "metadata": {},
   "source": [
    "### ========== Question 2.1 --- [3 marks] ==========\n",
    "\n",
    "As always, we wish to start with a very simple baseline classifier, which will provide a sanity check when training more advanced models.\n",
    "\n",
    "&nbsp;&nbsp;**(a)** [Text] Define a baseline classifier (indicate why you chose it/why it is relevant).<br>\n",
    "&nbsp;&nbsp;**(b)** [Code] Report the accuracy such a classifier would achieve on the testing set."
   ]
  },
  {
   "cell_type": "markdown",
   "metadata": {},
   "source": [
    "(a) ***Your answer goes here:***\n",
    "because the probability of \"is not person\" is higher than \"is person\", so the baseline is to always\n",
    "classify the object is \"is not person\""
   ]
  },
  {
   "cell_type": "code",
   "execution_count": 12,
   "metadata": {},
   "outputs": [
    {
     "name": "stdout",
     "output_type": "stream",
     "text": [
      "0.5265049415992812\n"
     ]
    }
   ],
   "source": [
    "# (b) # Your Code goes here:\n",
    "isNotPerson_data = image_test_isPerson[image_test_isPerson == 0]\n",
    "\n",
    "\n",
    "print(isNotPerson_data.count() / image_test_isPerson.count())\n"
   ]
  },
  {
   "cell_type": "markdown",
   "metadata": {},
   "source": [
    "### ========== Question 2.2 --- [9 marks] ==========\n",
    "<a id='question2_2'></a>\n",
    "Let us now train a more advanced Model.\n",
    "\n",
    "&nbsp;&nbsp;**(a)** [Code] Train a [`LogisticRegression`](http://scikit-learn.org/0.19/modules/generated/sklearn.linear_model.LogisticRegression.html) classifier using default settings, except for the `solver` parameter which you should set to `lbfgs`. Report the classification accuracy score on the testing set.<br>\n",
    "&nbsp;&nbsp;**(b)** [Text] Comment on the performance of the Logistic Regressor in comparison with the baseline model.<br>\n",
    "&nbsp;&nbsp;**(c)** [Code] Visualise the errors using an appropriate method to justify your answer to (b).<br>\n",
    "&nbsp;&nbsp;**(d)** [Text] Referring back to the observations in [Q1.1](#question1_1), and assuming that we know that the features should be informative, why do you think this may be happening?<br>"
   ]
  },
  {
   "cell_type": "code",
   "execution_count": 13,
   "metadata": {},
   "outputs": [
    {
     "name": "stdout",
     "output_type": "stream",
     "text": [
      "Classification accuracy on test set: 0.527\n"
     ]
    }
   ],
   "source": [
    "# (a) # Your Code goes here:\n",
    "lr = LogisticRegression(solver='lbfgs')\n",
    "lr.fit(image_train_features, image_train_isPerson)\n",
    "test_predit = lr.predict(X=image_test_features)\n",
    "print('Classification accuracy on test set: {:.3f}'.format(lr.score(image_test_features, image_test_isPerson)))"
   ]
  },
  {
   "cell_type": "markdown",
   "metadata": {},
   "source": [
    "(b) ***Your answer goes here:***\n",
    "The accuracy of logistic Regression is the same as baseline"
   ]
  },
  {
   "cell_type": "code",
   "execution_count": 14,
   "metadata": {},
   "outputs": [
    {
     "name": "stdout",
     "output_type": "stream",
     "text": [
      "[[586   0]\n",
      " [527   0]]\n"
     ]
    },
    {
     "data": {
      "image/png": "[encoded data removed]",
      "text/plain": [
       "<Figure size 432x288 with 2 Axes>"
      ]
     },
     "metadata": {
      "needs_background": "light"
     },
     "output_type": "display_data"
    }
   ],
   "source": [
    "# (c) # Your Code goes here:\n",
    "cm = confusion_matrix(image_test_isPerson, test_predit)\n",
    "\n",
    "print(cm)\n",
    "\n",
    "plt.figure()\n",
    "\n",
    "plt.subplot(1,1,1)\n",
    "\n",
    "labels = ['not person','is person']\n",
    "\n",
    "sns.heatmap(cm, xticklabels=labels, yticklabels=labels, vmin=0., vmax=1., annot=True)\n",
    "\n",
    "plt.title('Confusion matrix')\n",
    "plt.ylabel('True label')\n",
    "plt.xlabel('Predicted label')\n",
    "\n",
    "plt.show()"
   ]
  },
  {
   "cell_type": "markdown",
   "metadata": {},
   "source": [
    "(d) ***Your answer goes here:***\n",
    "\n",
    "every data have classify to 0(not_person), Because these eigenvalues are very small and the variance is very small, these data are concentrated near zero. Because they are very concentrated, it is difficult for classifiers to distinguish them.\n"
   ]
  },
  {
   "cell_type": "markdown",
   "metadata": {},
   "source": [
    "### ========== Question 2.3 --- [13 marks] ==========\n",
    "\n",
    "You should have noticed that the performance of the above logistic regressor is less than satisfactory. Let us attempt to fix this by preprocessing the inputs `X`.\n",
    "\n",
    "&nbsp;&nbsp;**(a)** [Text] Before applying the processing, comment on whether you should base any parameters of the preprocessing on the training or testing set or both and what repurcussions this may have.<br>\n",
    "&nbsp;&nbsp;**(b)** [Code] Following from your observations in [Q2.2.(d)](#question2_2), process the features in both the **training** as well as the **testing** sets accordingly. *Hint: There is an sklearn [package](http://scikit-learn.org/0.19/modules/preprocessing.html) which may be very useful.* <br>\n",
    "&nbsp;&nbsp;**(c)** [Code] Now Train a Logistic Regressor on the transformed training set, keeping the same settings as in the previous question. Report the classification accuracy on the testing set and visualise the errors in a similar way to [Q2.2(c)](#question2_2). <br>\n",
    "&nbsp;&nbsp;**(d)** [Text] Finally comment on the comparative performance with [Q2.2](#question2_2)."
   ]
  },
  {
   "cell_type": "markdown",
   "metadata": {},
   "source": [
    "(a) ***Your answer goes here:***\n",
    "Because they are very concentrated, I plan to make it easier for them to distinguish between them, so that they need to make their variance larger, so I use StandardScaler to preprocess the data."
   ]
  },
  {
   "cell_type": "code",
   "execution_count": 15,
   "metadata": {},
   "outputs": [],
   "source": [
    "# (b) # Your Code goes here:\n",
    "standardScaler = StandardScaler().fit(image_train_features)\n",
    "train_x = standardScaler.transform(image_train_features)\n",
    "test_x = standardScaler.transform(image_test_features)"
   ]
  },
  {
   "cell_type": "code",
   "execution_count": 16,
   "metadata": {},
   "outputs": [
    {
     "name": "stdout",
     "output_type": "stream",
     "text": [
      "Classification accuracy on test set: 0.650\n",
      "[[402 184]\n",
      " [213 314]]\n"
     ]
    },
    {
     "data": {
      "image/png": "[encoded data removed]",
      "text/plain": [
       "<Figure size 432x288 with 2 Axes>"
      ]
     },
     "metadata": {
      "needs_background": "light"
     },
     "output_type": "display_data"
    }
   ],
   "source": [
    "# (c) # Your Code goes here:\n",
    "lr1 = LogisticRegression(solver='lbfgs')\n",
    "lr1.fit(train_x, image_train_isPerson)\n",
    "test_predit1 = lr1.predict(X=test_x)\n",
    "print('Classification accuracy on test set: {:.3f}'.format(lr.score(test_x, image_test_isPerson)))\n",
    "\n",
    "ca = accuracy_score(image_test_isPerson, test_predit1)\n",
    "\n",
    "cm = confusion_matrix(image_test_isPerson, test_predit1)\n",
    "\n",
    "cm_norm = cm/cm.sum(axis=1)[:, np.newaxis]\n",
    "\n",
    "\n",
    "print(cm)\n",
    "\n",
    "plt.figure()\n",
    "\n",
    "plt.subplot(1,1,1)\n",
    "\n",
    "labels = ['not person','is person']\n",
    "\n",
    "sns.heatmap(cm_norm, xticklabels=labels, yticklabels=labels, vmin=0.0, vmax=1.0, annot=True)\n",
    "\n",
    "plt.title('Confusion matrix')\n",
    "plt.ylabel('True label')\n",
    "plt.xlabel('Predicted label')\n",
    "\n",
    "plt.show()"
   ]
  },
  {
   "cell_type": "markdown",
   "metadata": {},
   "source": [
    "(d) ***Your answer goes here:***\n",
    "\n",
    "After pre-processing, the data becomes more normalizated and easier to distinguish, so the logistic regression performance is better than problem 2.2, and the accuracy is 0.65."
   ]
  },
  {
   "cell_type": "markdown",
   "metadata": {},
   "source": [
    "### ========== Question 2.4 --- [18 marks] ==========\n",
    "<a id='question2_4'></a>\n",
    "So far we have used default settings for training the logistic regression classifier. Now we want to optimise the hyperparameters of the classifier, namely the regularisation parameter `C`. We will do this through [K-fold cross-validation](http://scikit-learn.org/0.19/modules/generated/sklearn.model_selection.KFold.html). You should familiarise yourself with the interpretation of the `C` parameter.\n",
    "\n",
    "&nbsp;&nbsp;**(a)** [Text] Why do we use cross-validation to optimise the hyper-parameters, rather than using the test-set?<br>\n",
    "&nbsp;&nbsp;**(b)** [Code] Load the datasets `Images_B_Train.csv` and `Images_B_Test.csv` (this ensures everyone is using the same pre-processed data). Again, extract the relevant columns (`dim1` through `dim500` and the `is_person` class) from each dataset, and store into `X_train`/`X_test` and `y_train`/`y_test` variables.<br>\n",
    "&nbsp;&nbsp;**(c)** [Code] Using Cross-Validation on the **Training** set (a 5-fold split should be sufficient: set `shuffle=True` and `random_state=0`), perform a search for the best value of `C` in the range `1e-5` to `1e5` (*Hint: the KFold [split](http://scikit-learn.org/0.19/modules/generated/sklearn.model_selection.KFold.html#sklearn.model_selection.KFold.split) method will come in handy*). Keep track of the validation-set accuracy per-fold for each value of `C` in an array. Think carefully about the best way to cover the search space: i.e. the step-lengths and number of steps.<br>\n",
    "&nbsp;&nbsp;**(d)** [Code] Plot the mean and standard-deviation (across folds) of the accuracy as a function of `C`. *Hint: you may find the matplotlib's [errorbar](https://matplotlib.org/2.2.3/api/_as_gen/matplotlib.pyplot.errorbar.html) function useful. Be careful to use the correct scale on the x-axis.* Using the mean values, report the regularisation parameter with the best accuracy (alongside its accuracy): *N.B. Do not pick the optimal value \"by hand\", instead use an appropriate numpy function*.<br>\n",
    "&nbsp;&nbsp;**(e)** [Text] Comment on the output, especially as regards the effect of the regularisation parameter (you should write between 3 and 4 sentences).<br>\n",
    "&nbsp;&nbsp;**(f)** [Code] By using the optimal value (i.e. the one that yields the highest average K-Fold classification accuracy) train a new `LogisticRegression` classifier on the entire training set and report the classification accuracy on the test set.\n",
    "\n",
    "**N.B.: Keep track of the KFold object you created as we will keep using it**"
   ]
  },
  {
   "cell_type": "markdown",
   "metadata": {},
   "source": [
    "(a) ***Your answer goes here:***\n",
    "1)Cross-validation can perform multiple trainings and verifications, and only one verification is performed using test data. Cross-validation training is better.\n",
    "\n",
    "2)Cross-validation can effectively avoid over-fitting and under-fitting state, and the final result is more persuasive.\n",
    "\n",
    "3）The performance of the test set is very unstable. The performance of the classifier in the test set is directly related to the division of the test set, because the test set is randomly selected, so if the selection is not appropriate, the effect of the classifier will be poor on the test set."
   ]
  },
  {
   "cell_type": "code",
   "execution_count": 23,
   "metadata": {},
   "outputs": [],
   "source": [
    "# (b) # Your Code goes here:\n",
    "data_path = os.path.join(os.getcwd(), 'datasets', 'Images_B_Train.csv')\n",
    "train_data = pd.read_csv(data_path,delimiter=',')\n",
    "\n",
    "X_train = train_data.iloc[:,0:500]\n",
    "\n",
    "y_train = train_data['is_person']\n",
    "\n",
    "\n",
    "data_path = os.path.join(os.getcwd(), 'datasets', 'Images_B_Test.csv')\n",
    "test_data = pd.read_csv(data_path,delimiter=',')\n",
    "\n",
    "X_test = test_data.iloc[:,0:500]\n",
    "\n",
    "y_test = test_data['is_person']"
   ]
  },
  {
   "cell_type": "code",
   "execution_count": 20,
   "metadata": {},
   "outputs": [
    {
     "name": "stdout",
     "output_type": "stream",
     "text": [
      "best C is 0.0012742749857031334, best accuracy is 0.7013623231435064\n"
     ]
    }
   ],
   "source": [
    "# (c) # Your Code goes here:\n",
    "\n",
    "number = 20\n",
    "splits = 5\n",
    "\n",
    "\n",
    "kf = KFold(n_splits=splits, shuffle=True, random_state=0)\n",
    "\n",
    "scores = []\n",
    "mean_array = []\n",
    "std_array = []\n",
    "\n",
    "Csteps = np.logspace(start=-5, stop=5, num=20)\n",
    "\n",
    "for kf_train_indexes, kf_test_indexes in kf.split(X_train):\n",
    "\n",
    "    eachKFScoresDic = []\n",
    "    for C in Csteps:\n",
    "        lr = LogisticRegression(solver=\"lbfgs\", C=C)\n",
    "        lr.fit(X=X_train.loc[kf_train_indexes],y = y_train.loc[kf_train_indexes])\n",
    "        lr_score = lr.score(X=X_train.loc[kf_test_indexes], y=y_train.loc[kf_test_indexes])\n",
    "        eachKFScoresDic.append(lr_score)\n",
    "    scores.append(eachKFScoresDic)\n",
    "\n",
    "\n",
    "\n",
    "npScores = np.array(scores).reshape(splits,number)\n",
    "\n",
    "mean_array = np.mean(npScores,axis=0)\n",
    "\n",
    "bestLRAccrucy = np.max(mean_array)\n",
    "index = np.argwhere(mean_array == bestAccrucy)\n",
    "bestLRC = Csteps[index[0][0]]\n",
    "\n",
    "print('best C is {}, best accuracy is {}'.format(bestLRC,bestLRAccrucy))\n",
    "\n",
    "std_array = np.std(npScores,axis=0)\n"
   ]
  },
  {
   "cell_type": "code",
   "execution_count": 22,
   "metadata": {},
   "outputs": [
    {
     "data": {
      "image/png": "[encoded data removed]",
      "text/plain": [
       "<Figure size 460.8x345.6 with 1 Axes>"
      ]
     },
     "metadata": {
      "needs_background": "light"
     },
     "output_type": "display_data"
    },
    {
     "name": "stdout",
     "output_type": "stream",
     "text": [
      "in train data,best C is 0.0012742749857031334, best Accuracy is 0.7013623231435064\n"
     ]
    }
   ],
   "source": [
    "# (d) # Your Code goes here:\n",
    "\n",
    "\n",
    "plt.figure(figsize=(6.4, 4.8))\n",
    "\n",
    "plt.errorbar(x=Csteps, y=mean_array,yerr=std_array, fmt='o', color='black',ecolor='lightgray',elinewidth=3, capsize=0)\n",
    "\n",
    "plt.xticks(Csteps,rotation=90)\n",
    "\n",
    "plt.title('Accuracy for different C')\n",
    "\n",
    "plt.xlabel('C (Regularisation Parameter)')\n",
    "\n",
    "plt.ylabel('Accuracy')\n",
    "\n",
    "plt.semilogx()\n",
    "\n",
    "plt.show()\n",
    "\n",
    "print('in train data,best C is {}, best Accuracy is {}'.format(bestLRC,bestLRAccrucy))"
   ]
  },
  {
   "cell_type": "markdown",
   "metadata": {},
   "source": [
    "(e) ***Your answer goes here:***\n",
    "\n",
    "We can see from the figure that the value of C at the beginning is 1e-5, and the accuracy is not ideal at this time, only about 0.56. As C continues to increase, the accuracy rate continues to increase. When the value of C is between 1e-4 and 1e-2, the accuracy reaches the maximum value of about 0.69. Then, as C continues to increase, the accuracy slowly decreases, and finally stabilizes at around 0.63.\n",
    "\n",
    "C can improve the accuracy of logistic regression, but you need to try to find the right C, otherwise inappropriate C may lead to a decrease in accuracy.\n"
   ]
  },
  {
   "cell_type": "code",
   "execution_count": 26,
   "metadata": {},
   "outputs": [
    {
     "name": "stdout",
     "output_type": "stream",
     "text": [
      "test scorce: 0.6981132075471698\n"
     ]
    }
   ],
   "source": [
    "# (f) # Your Code goes here:\n",
    "\n",
    "best_accuracy = np.max(mean_array)\n",
    "\n",
    "best_index = np.argwhere(mean_array == best_accuracy)\n",
    "\n",
    "bestC = Csteps[best_index]\n",
    "\n",
    "lr = LogisticRegression(solver=\"lbfgs\", C=bestC[0][0])\n",
    "lr.fit(X=X_train, y=y_train)\n",
    "lr_score = lr.score(X=X_test, y=y_test)\n",
    "\n",
    "print('test scorce:',lr_score)"
   ]
  },
  {
   "cell_type": "markdown",
   "metadata": {},
   "source": [
    "### ========== Question 2.5 --- (LEVEL 11) --- [12 marks] ==========\n",
    "\n",
    "Let us attempt to validate the importance of the various features for classification. We could do this like we did for linear regression by looking at the magnitude of the weights. However, in this case, we will use the [`RandomForestClassifier`](http://scikit-learn.org/0.19/modules/generated/sklearn.ensemble.RandomForestClassifier.html) to give us a ranking over features.\n",
    "\n",
    "&nbsp;&nbsp;**(a)** [Text] How can we use the Random-Forest to get this kind of analysis? *Hint: look at the `feature_importances` property in the SKLearn implementation.*<br>\n",
    "&nbsp;&nbsp;**(b)** [Code] Initialise a random forest classifier and fit the model by using training data only and 500 trees (i.e. `n_estimators=500`). Set `random_state=42` to ensure reproducible results and `criterion=entropy` but leave all other parameters at their default value. Report the accuracy score on both the training and testing sets.<br>\n",
    "&nbsp;&nbsp;**(c)** [Text] Comment on the discrepancy between training and testing accuracies.<br>\n",
    "&nbsp;&nbsp;**(d)** [Code] By using the random forest model display the names of the 10 most important features (in descending order of importance).<br>\n"
   ]
  },
  {
   "cell_type": "markdown",
   "metadata": {},
   "source": [
    "(a) ***Your answer goes here:***\n",
    "\n",
    "sorted by the contribution of the features, and sklearn have a property called feature_importances and\n",
    "it can output the feature importances array.\n"
   ]
  },
  {
   "cell_type": "code",
   "execution_count": 31,
   "metadata": {},
   "outputs": [
    {
     "name": "stdout",
     "output_type": "stream",
     "text": [
      "accuracy of training set:  1.0\n",
      "accuracy of test set:  0.6990116801437556\n"
     ]
    }
   ],
   "source": [
    "# (b) # Your Code goes here:\n",
    "\n",
    "rf = RandomForestClassifier(n_estimators=500, random_state=42,criterion=\"entropy\")\n",
    "rf.fit(X=X_train,y=y_train)\n",
    "print (\"accuracy of training set: \",rf.score(X=X_train, y=y_train))\n",
    "print (\"accuracy of test set: \",rf.score(X=X_test, y=y_test))"
   ]
  },
  {
   "cell_type": "markdown",
   "metadata": {},
   "source": [
    "(c) ***Your answer goes here:***\n",
    "\n",
    "For random forests, retest the training data and it is not surprising that the score is 1.0 Contrast with Logisitic Regression, the accuracy of random forests is slightly higher, but not much"
   ]
  },
  {
   "cell_type": "code",
   "execution_count": 33,
   "metadata": {},
   "outputs": [
    {
     "name": "stdout",
     "output_type": "stream",
     "text": [
      "dim21\n",
      "dim51\n",
      "dim360\n",
      "dim76\n",
      "dim479\n",
      "dim4\n",
      "dim263\n",
      "dim283\n",
      "dim461\n",
      "dim343\n"
     ]
    }
   ],
   "source": [
    "# (d) # Your Code goes here:\n",
    "dataFrame = pd.DataFrame(X_train.columns,columns=['featureName'])\n",
    "dataFrame['importants'] = rf.feature_importances_\n",
    "\n",
    "sort_dataFrame = dataFrame.sort_values('importants',ascending=False)\n",
    "\n",
    "for i in range(10):\n",
    "    print(sort_dataFrame.iloc[i,0])"
   ]
  },
  {
   "cell_type": "markdown",
   "metadata": {},
   "source": [
    "### ========== Question 2.6 --- [12 marks] ==========\n",
    "\n",
    "We would like now to explore another form of classifier: the Support Vector Machine. A key decision in training SVM's is what kind of kernel to use. We will explore with three kernel types: linear, radial-basis-functions and polynomials. To get a feel for each we will first visualise typical decision boundaries for each of these variants. To do so, we have to simplify our problem to two-dimensional input (to allow us to visualise it).\n",
    "\n",
    "&nbsp;&nbsp;**(a)** [Code] Using the training set only, create a training `X` matrix with only the `dim21` and `dim51` columns. ***N.B.*** *Python (and numpy) use zero-based indexing*. Then train three distinct classifiers on this 2D data. Use a `linear` kernel (still using an `SVC` not the `LinearSVC` object) for one, an `rbf` kernel for another (set `gamma='auto'`) and a second order (`degree`) polynomial kernel for the other. Set `C=1` in all cases. Using the function `plot_SVM_DecisionBoundary` from our own library (it exists under the `plotters` module), plot the decision boundary for all three classifiers. <br>\n",
    "&nbsp;&nbsp;**(b)** [Text] Explain (intuitively) the shape of the decision boundary for each classifier (i.e. comment on what aspect of the kernel gives rise to it). Use this to comment on how it relates to classification accuracy."
   ]
  },
  {
   "cell_type": "code",
   "execution_count": 36,
   "metadata": {},
   "outputs": [
    {
     "name": "stdout",
     "output_type": "stream",
     "text": [
      "svc_linear score 0.6158623984710941\n",
      "svc_rbf score 0.6282847587195414\n",
      "svc_poly score 0.5766841853798376\n"
     ]
    },
    {
     "data": {
      "image/png": "[encoded data removed]",
      "text/plain": [
       "<Figure size 1080x360 with 3 Axes>"
      ]
     },
     "metadata": {},
     "output_type": "display_data"
    }
   ],
   "source": [
    "# (a) # Your Code goes here:\n",
    "\n",
    "X_dim21 = X_train['dim21']\n",
    "X_dim51 = X_train['dim51']\n",
    "y_svm = y_train\n",
    "\n",
    "X_21_and_51 = np.array([X_dim21,X_dim51])\n",
    "X_21_and_51 = X_21_and_51.T\n",
    "\n",
    "svc_linear = SVC(kernel=\"linear\",C=1).fit(X=X_21_and_51, y=y_svm)\n",
    "svc_rbf = SVC(kernel=\"rbf\",gamma='auto',C=1).fit(X=X_21_and_51, y=y_svm)\n",
    "svc_poly = SVC(kernel=\"poly\",degree=2,C=1).fit(X=X_21_and_51, y=y_svm)\n",
    "\n",
    "print('svc_linear score',svc_linear.score(X=X_21_and_51, y=y_svm))\n",
    "print('svc_rbf score',svc_rbf.score(X=X_21_and_51, y=y_svm))\n",
    "print('svc_poly score',svc_poly.score(X=X_21_and_51, y=y_svm))\n",
    "\n",
    "plotter.plot_SVM_DecisionBoundary(clfs=[svc_linear,svc_rbf,svc_poly],X=X_21_and_51,y=y_svm,\n",
    "                                  title=['linear','rbf','polynomial'],\n",
    "                                  labels=['dim21','dim51'])\n",
    "plt.show()"
   ]
  },
  {
   "cell_type": "markdown",
   "metadata": {},
   "source": [
    "(b) ***Your answer goes here:***\n",
    "\n",
    "The linear kernel is a linear function, so the resulting decision boundary is linear\n",
    "SVC with polynomial resulted in a polynomial decision boundary.However the decision boundary of rbf is more difficult to describe, but the radial nature can be seen from the two protrusions near the center of the two axes.\n",
    "As can be seen from the figure, in the blue part, the point covered by Liner is not as much as rbf, so the accuracy of rbf will be slightly higher. And polynomial covers too many points, and many brown points are also included, so polynomial has the worst performance.\n",
    "\n",
    "\n"
   ]
  },
  {
   "cell_type": "markdown",
   "metadata": {},
   "source": [
    "### ========== Question 2.7 --- [14 marks] ==========\n",
    "Let us now explore the polynomial SVM further. We will go back to using the dataset with **ALL** features (i.e. the one we loaded in [Question 2.4](#question2_4)). There are two parameters we need to tune: the order of the polynomial and the regression coefficient. We will do this by way of a grid-search over parameters. To save computational time, we will use a constrained search space:\n",
    "\n",
    "&nbsp;&nbsp;**(a)** [Code] Define an appropriate search space for `C` in the range `1e-2` to `1e3` using 6-steps (think about the step-size), and for the `degree` in the range 1 through 5 inclusive (5 steps). Using the `K-fold` iterator from [Q2.4](#question2_4), optimise the values for `C` and the `degree` in the above specified range. Keep track of the mean cross-validation accuracy for each parameter combination.<br>\n",
    "&nbsp;&nbsp;**(b)** [Code] Using a seaborn heatmap, plot the fold-averaged classification accuracy for each parameter combination (label axes appropriately). Finally also report the combination of the parameters which yielded the best accuracy.<br>\n",
    "&nbsp;&nbsp;**(c)** [Code] Retrain the (polynomial-kernel) SVC using the optimal parameters found in **(b)** and report its accuracy on the **Testing** set.<br>\n",
    "&nbsp;&nbsp;**(d)** [Text] Explain the results relative to the Logistic Classifier."
   ]
  },
  {
   "cell_type": "code",
   "execution_count": 26,
   "metadata": {},
   "outputs": [
    {
     "name": "stdout",
     "output_type": "stream",
     "text": [
      " C is 0.01 and degree is 1.0, the accuracy is 0.5527834557102237\n",
      " C is 0.01 and degree is 2.0, the accuracy is 0.5508741478343288\n",
      " C is 0.01 and degree is 3.0, the accuracy is 0.5508741478343288\n",
      " C is 0.01 and degree is 4.0, the accuracy is 0.5508741478343288\n",
      " C is 0.01 and degree is 5.0, the accuracy is 0.5503956789348072\n",
      " C is 0.1 and degree is 1.0, the accuracy is 0.6836863801943566\n",
      " C is 0.1 and degree is 2.0, the accuracy is 0.5738098228865721\n",
      " C is 0.1 and degree is 3.0, the accuracy is 0.5604275387970904\n",
      " C is 0.1 and degree is 4.0, the accuracy is 0.5542154366171449\n",
      " C is 0.1 and degree is 5.0, the accuracy is 0.5527823137796759\n",
      " C is 1.0 and degree is 1.0, the accuracy is 0.6927715796325268\n",
      " C is 1.0 and degree is 2.0, the accuracy is 0.6684027817428143\n",
      " C is 1.0 and degree is 3.0, the accuracy is 0.6765184821459159\n",
      " C is 1.0 and degree is 4.0, the accuracy is 0.6235066403261353\n",
      " C is 1.0 and degree is 5.0, the accuracy is 0.6029747290769775\n",
      " C is 10.0 and degree is 1.0, the accuracy is 0.666511744755684\n",
      " C is 10.0 and degree is 2.0, the accuracy is 0.6612371675554692\n",
      " C is 10.0 and degree is 3.0, the accuracy is 0.678929097532288\n",
      " C is 10.0 and degree is 4.0, the accuracy is 0.6292448413287504\n",
      " C is 10.0 and degree is 5.0, the accuracy is 0.5876888467643399\n",
      " C is 100.0 and degree is 1.0, the accuracy is 0.6421497984492583\n",
      " C is 100.0 and degree is 2.0, the accuracy is 0.6612371675554692\n",
      " C is 100.0 and degree is 3.0, the accuracy is 0.6784517705633143\n",
      " C is 100.0 and degree is 4.0, the accuracy is 0.6302006371972456\n",
      " C is 100.0 and degree is 5.0, the accuracy is 0.5929383014925033\n",
      " C is 1000.0 and degree is 1.0, the accuracy is 0.633546493702253\n",
      " C is 1000.0 and degree is 2.0, the accuracy is 0.6612371675554692\n",
      " C is 1000.0 and degree is 3.0, the accuracy is 0.6784517705633143\n",
      " C is 1000.0 and degree is 4.0, the accuracy is 0.6302006371972456\n",
      " C is 1000.0 and degree is 5.0, the accuracy is 0.5929383014925033\n"
     ]
    },
    {
     "data": {
      "text/plain": [
       "<Figure size 432x288 with 0 Axes>"
      ]
     },
     "execution_count": 26,
     "metadata": {},
     "output_type": "execute_result"
    },
    {
     "data": {
      "text/plain": [
       "<Figure size 432x288 with 0 Axes>"
      ]
     },
     "metadata": {},
     "output_type": "display_data"
    }
   ],
   "source": [
    "# (a) # Your Code goes here:\n",
    "\n",
    "step_number = 6\n",
    "degreeStepNumber = 5\n",
    "\n",
    "accuracy_array = np.ndarray((degreeStepNumber,step_number))\n",
    "\n",
    "stepArray = np.logspace(start=-2, stop=3, num=step_number)\n",
    "\n",
    "degreeStepArray = np.linspace(start=1, stop=5, num=degreeStepNumber)\n",
    "\n",
    "\n",
    "\n",
    "C_index = 0\n",
    "for C in stepArray:\n",
    "    degree_index = 0\n",
    "    for degree in degreeStepArray:\n",
    "        scores = []\n",
    "        for kf_train_indexes, kf_test_indexes in kf.split(X_train):\n",
    "            svc_poly = SVC(kernel=\"poly\", degree=degree, C=C)\n",
    "            svc_poly.fit(X=X_train.loc[kf_train_indexes],y = y_train.loc[kf_train_indexes])\n",
    "            svc_score = svc_poly.score(X=X_train.loc[kf_test_indexes], y=y_train.loc[kf_test_indexes])\n",
    "            scores.append(svc_score)\n",
    "        mean_score = np.mean(scores,axis=0)\n",
    "        print(' C is {} and degree is {}, the accuracy is {}'.format(C,degree,mean_score))\n",
    "        accuracy_array[degree_index,C_index] = mean_score\n",
    "        degree_index+=1\n",
    "    C_index +=1\n",
    "\n",
    "plt.figure()"
   ]
  },
  {
   "cell_type": "code",
   "execution_count": 27,
   "metadata": {},
   "outputs": [
    {
     "name": "stdout",
     "output_type": "stream",
     "text": [
      "[0.55087415 0.56042754 0.67651848 0.6789291  0.67845177 0.67845177]\n"
     ]
    },
    {
     "data": {
      "image/png": "[encoded data removed]",
      "text/plain": [
       "<Figure size 432x288 with 2 Axes>"
      ]
     },
     "metadata": {
      "needs_background": "light"
     },
     "output_type": "display_data"
    },
    {
     "name": "stdout",
     "output_type": "stream",
     "text": [
      "with C is 1.0 and degree is 1.0, the best accuracy is : 0.6927715796325268\n"
     ]
    }
   ],
   "source": [
    "# (b) # Your Code goes here:\n",
    "sns.heatmap(accuracy_array,xticklabels=stepArray,yticklabels=degreeStepArray,vmin=0.,vmax=1.,annot=True)\n",
    "\n",
    "#this print is to explain quesiton 2.8 b)\n",
    "print(accuracy_array[2,:])\n",
    "\n",
    "plt.title('accuracy of C combined with degree')\n",
    "plt.xlabel('C')\n",
    "plt.ylabel('degree')\n",
    "plt.show()\n",
    "\n",
    "\n",
    "print('with C is 1.0 and degree is 1.0, the best accuracy is :',accuracy_array[0,2])\n"
   ]
  },
  {
   "cell_type": "code",
   "execution_count": 41,
   "metadata": {},
   "outputs": [
    {
     "name": "stdout",
     "output_type": "stream",
     "text": [
      "Accuracy of svc_poly: 0.6891284815813118\n"
     ]
    }
   ],
   "source": [
    "# (c) # Your Code goes here:\n",
    "svc_poly = SVC(kernel=\"poly\", degree=1, C=1.0)\n",
    "svc_poly.fit(X=X_train, y=y_train)\n",
    "svc_score = svc_poly.score(X=X_test, y=y_test)\n",
    "\n",
    "print(\"Accuracy of svc_poly:\",svc_score)"
   ]
  },
  {
   "cell_type": "markdown",
   "metadata": {},
   "source": [
    "(d) ***Your answer goes here:***\n",
    "\n",
    "the best accuracy of Logistic Classifier in question 2.5 is 0.699\n",
    "the best accuracy of SVM with poly in this question is 0.689\n",
    "\n",
    "The performance of Logistic Classifier is slightly better than SVM with poly\n",
    "\n"
   ]
  },
  {
   "cell_type": "markdown",
   "metadata": {},
   "source": [
    "### ========== Question 2.8 --- (LEVEL 11) --- [10 marks] ==========\n",
    "\n",
    "Answer the followign theoretical questions:\n",
    "\n",
    "&nbsp;&nbsp;**(a)** [Text] Is a Logistic Regression Classifier equivalent to an SVM with a Linear Kernel? why or why not?<br>\n",
    "&nbsp;&nbsp;**(b)** [Text] In the previous question we optimised the `degree` and regularisation `C` simultaneously. By looking at the heatmap you plotted, can you explain the motivation behind this? That is, what would happen if we were to estimate the optimum along each dimension independently? Can you imagine a case where an independent search along each of the dimensions (known as coordinate-descent) would be guaranteed to yield the optimum result?<br>\n",
    "&nbsp;&nbsp;**(c)** [Text] Despite having a hold-out testing set, we used cross-validation for optimising the hyper-parameters (only using the testing set for comparing models). Why is this? Also, mention an advantage and a disadvantage of using cross-validation to train hyper-parameters rather than a further train/validation split."
   ]
  },
  {
   "cell_type": "markdown",
   "metadata": {},
   "source": [
    "(a) ***Your answer goes here:***\n",
    "\n",
    "Logistic Regression Classifier is not equivalent to an SVM with a Linear Kernel.\n",
    "Logistic regression is a sigmoid function, and SVM with a Linear Kernel is a linear function.\n"
   ]
  },
  {
   "cell_type": "markdown",
   "metadata": {},
   "source": [
    "(b) ***Your answer goes here:***\n",
    "\n",
    "1)find the combination of hyperparameters to achieve the highest accuracy.\n",
    "2)If we just consider one dimension, we may miss the best best accuracy.\n",
    "3)for the SVC parameters, the default value of C is 1.0 and it of degree is 3.0\n",
    "if C is constant, and we will find the best of degree is 1, this is very lucky and we find the best accuracy.\n",
    "However, if degree is constant, we may find the best C is 10.0, and this hyperparameters cannot make SVC performance best.\n"
   ]
  },
  {
   "cell_type": "markdown",
   "metadata": {},
   "source": [
    "(c) ***Your answer goes here:***\n",
    "\n",
    "1) If we use the hold-out testing set, we can only verify each set of hyperparameters once, but if cross-validation is used, like the above problem, we will verify it multiple times and then take the average.\n",
    "2) The hold-out data set is random, and the division of data at the beginning will directly affect the final training effect.\n",
    "3)If we reuse the test set, the test set is equal to a part of the training set, at which point the model is prone to overfitting\n",
    "\n",
    "\n"
   ]
  },
  {
   "cell_type": "markdown",
   "metadata": {},
   "source": [
    "# Appendix\n",
    "## More information about visual words\n",
    "\n",
    "The Visual words used in this project are based on [Scale-invariant feature transforms (SIFT)](https://en.wikipedia.org/wiki/Scale-invariant_feature_transform). SIFT features are essentially local orientation histograms and capture the properties of small image regions. They possess attractive invariance properties which make them well suited for our task (you can read more about SIFT features in [D.Lowe, IJCV 60(2):91- 110, 2004](http://link.springer.com/article/10.1023/B:VISI.0000029664.99615.94), but the details don't matter for the purpose of this assignment). Each SIFT feature is a 128 dimensional vector. From each image many SIFT features are extracted, typically > 2500 per image (features are extracted at regular intervals using a 15 pixel grid and at 4 different scales). To obtain visual words a representative subset of all extracted SIFT features from all images is chosen and clustered with k-means using 500 centres (such use of the k-means algorithm will be discussed in detail during the lecture). These 500 cluster centres form our visual words. The representation of a single image is obtained by first assigning each SIFT feature extracted from the image to the appropriate cluster (i.e. we determine the visual word corresponding to each feature by picking the closest cluster centre). We then count the number of features from that image assigned to each cluster (i.e. we determine how often each visual word is present in the image). This results in a 500 dimensional count vector for each image (one dimension for each visual word). The normalized version of this count vector gives the final representation of the image (normalized means that we divide the count vector by the total number of visual words in the image, i.e. the normalized counts sum to 1 for each image)"
   ]
  }
 ],
 "metadata": {
  "anaconda-cloud": {},
  "kernelspec": {
   "display_name": "Python 3",
   "language": "python",
   "name": "python3"
  },
  "language_info": {
   "codemirror_mode": {
    "name": "ipython",
    "version": 3
   },
   "file_extension": ".py",
   "mimetype": "text/x-python",
   "name": "python",
   "nbconvert_exporter": "python",
   "pygments_lexer": "ipython3",
   "version": "3.7.0"
  }
 },
 "nbformat": 4,
 "nbformat_minor": 1
}
